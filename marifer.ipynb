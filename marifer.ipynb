{
  "nbformat": 4,
  "nbformat_minor": 0,
  "metadata": {
    "colab": {
      "provenance": [],
      "authorship_tag": "ABX9TyMQfJ251MBeaAyGwlRlBcgw",
      "include_colab_link": true
    },
    "kernelspec": {
      "name": "python3",
      "display_name": "Python 3"
    },
    "language_info": {
      "name": "python"
    }
  },
  "cells": [
    {
      "cell_type": "markdown",
      "metadata": {
        "id": "view-in-github",
        "colab_type": "text"
      },
      "source": [
        "<a href=\"https://colab.research.google.com/github/mariafsds/IA/blob/main/marifer.ipynb\" target=\"_parent\"><img src=\"https://colab.research.google.com/assets/colab-badge.svg\" alt=\"Open In Colab\"/></a>"
      ]
    },
    {
      "cell_type": "code",
      "execution_count": 3,
      "metadata": {
        "colab": {
          "base_uri": "https://localhost:8080/"
        },
        "id": "OaGN50G55Q8m",
        "outputId": "e6f3b0da-b2d8-4c19-8744-8d8aa686b1e2"
      },
      "outputs": [
        {
          "output_type": "stream",
          "name": "stdout",
          "text": [
            "III Competição de programação da start em São Paulo com o tema Inteligência Artificial\n"
          ]
        }
      ],
      "source": [
        "ano = \"III\"\n",
        "local = \"São Paulo\"\n",
        "tema = \"Inteligência Artificial\"\n",
        "nome_competicao = \"Competição de programação da start\"\n",
        "print(f\"{ano} {nome_competicao} em {local} com o tema {tema}\")"
      ]
    }
  ]
}